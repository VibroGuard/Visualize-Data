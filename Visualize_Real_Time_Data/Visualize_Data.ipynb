{
 "cells": [
  {
   "cell_type": "markdown",
   "metadata": {
    "colab_type": "text",
    "id": "view-in-github"
   },
   "source": [
    "<a href=\"https://colab.research.google.com/github/VibroGuard/Visualize-Data/blob/main/Visualize-Basics/Visualize_Vibration_Data.ipynb\" target=\"_parent\"><img src=\"https://colab.research.google.com/assets/colab-badge.svg\" alt=\"Open In Colab\"/></a>"
   ]
  },
  {
   "cell_type": "markdown",
   "metadata": {
    "id": "bI5A1axJR9XT"
   },
   "source": [
    "## Visualize Vibration Data"
   ]
  },
  {
   "cell_type": "code",
   "execution_count": 1,
   "metadata": {
    "id": "xlAoH5neSEvO"
   },
   "outputs": [],
   "source": [
    "import numpy as np\n",
    "import matplotlib.pyplot as plt"
   ]
  },
  {
   "cell_type": "code",
   "execution_count": 3,
   "metadata": {
    "id": "DBngalLiUjrn"
   },
   "outputs": [],
   "source": [
    "def fft_data(data):\n",
    "    \"\"\"\n",
    "    This function takes the data and returns the fft of the data\n",
    "    :param data:\n",
    "    :return: fft of the data (x+iy) and absolute value of the fft (magnitude of the fft)\n",
    "    \"\"\"\n",
    "    fft_result = np.fft.fft(data)\n",
    "    return fft_result.tolist(), np.abs(fft_result).tolist()"
   ]
  },
  {
   "cell_type": "code",
   "execution_count": 3,
   "metadata": {
    "id": "fKmJqx6bUmV4"
   },
   "outputs": [],
   "source": [
    "def visualize_data(x, y, z, sps, plot_type):\n",
    "    \"\"\"\n",
    "    This function visualizes the data in x, y, z directions with respect to time\n",
    "    :param x:\n",
    "    :param y:\n",
    "    :param z:\n",
    "    :param sps samples per second:\n",
    "    :return: plots the data\n",
    "    \"\"\"\n",
    "    fig, axs = plt.subplots(1, 3, figsize=(15, 5))\n",
    "    names = [\"x - axis\", \"y - axis\", \"z - axis\"]\n",
    "    for i, ax in enumerate(axs):\n",
    "        data = [x, y, z][i]\n",
    "        if plot_type == \"time\":\n",
    "          time = len(data) / sps  # time = number of samples / samples per second\n",
    "          horizontal_axis = np.linspace(0, time, len(data))\n",
    "          ax.stem(horizontal_axis, data)\n",
    "        elif plot_type == \"frequency\":\n",
    "          horizontal_axis = np.linspace(int(-sps / 2), int(sps / 2), len(data))\n",
    "          ax.stem(horizontal_axis,  data[int(np.ceil(len(data) / 2)) + 1:] + data[:int(np.ceil(len(data) / 2)) + 1])\n",
    "        \n",
    "        ax.set_title(names[i])\n",
    "        if plot_type == \"time\": xLabel = \"Time (s)\"\n",
    "        elif plot_type == \"frequency\": xLabel = \"Freqeuncy (Hz)\"\n",
    "        ax.set_xlabel(xLabel)\n",
    "        ax.set_ylabel('Magnitude')\n",
    "\n",
    "    plt.tight_layout()\n",
    "    \n",
    "    plt.show()"
   ]
  },
  {
   "cell_type": "code",
   "execution_count": null,
   "metadata": {},
   "outputs": [],
   "source": []
  }
 ],
 "metadata": {
  "colab": {
   "authorship_tag": "ABX9TyN4RZ1ZcBylly+weNmbHD+R",
   "include_colab_link": true,
   "provenance": []
  },
  "kernelspec": {
   "display_name": "Python 3 (ipykernel)",
   "language": "python",
   "name": "python3"
  },
  "language_info": {
   "codemirror_mode": {
    "name": "ipython",
    "version": 3
   },
   "file_extension": ".py",
   "mimetype": "text/x-python",
   "name": "python",
   "nbconvert_exporter": "python",
   "pygments_lexer": "ipython3",
   "version": "3.10.6"
  }
 },
 "nbformat": 4,
 "nbformat_minor": 1
}
